{
 "cells": [
  {
   "cell_type": "code",
   "execution_count": 21,
   "id": "8b3be5a0",
   "metadata": {},
   "outputs": [
    {
     "name": "stdout",
     "output_type": "stream",
     "text": [
      "We get maximum for x= 0\n",
      "Maximum = 2\n",
      "We get minimum for x= 6\n",
      "Minimum = -106\n"
     ]
    }
   ],
   "source": [
    "from sympy import Symbol, diff , solve\n",
    "x = Symbol('x')\n",
    "f=x**3-9*x**2+2\n",
    "f1=diff(f,x)\n",
    "f2=diff(f1,x)\n",
    "sol=solve(f1,x)\n",
    "for i in sol:\n",
    "    if f2.subs(x,i)>0:\n",
    "        print(\"We get minimum for x=\",i)\n",
    "        print('Minimum =',f.subs(x,i))\n",
    "    if f2.subs(x,i)<0:\n",
    "        print(\"We get maximum for x=\",i)\n",
    "        print('Maximum =',f.subs(x,i))\n"
   ]
  },
  {
   "cell_type": "code",
   "execution_count": null,
   "id": "31713b3c",
   "metadata": {},
   "outputs": [],
   "source": []
  },
  {
   "cell_type": "code",
   "execution_count": null,
   "id": "a69faa38",
   "metadata": {},
   "outputs": [],
   "source": []
  }
 ],
 "metadata": {
  "kernelspec": {
   "display_name": "Python 3 (ipykernel)",
   "language": "python",
   "name": "python3"
  },
  "language_info": {
   "codemirror_mode": {
    "name": "ipython",
    "version": 3
   },
   "file_extension": ".py",
   "mimetype": "text/x-python",
   "name": "python",
   "nbconvert_exporter": "python",
   "pygments_lexer": "ipython3",
   "version": "3.9.13"
  }
 },
 "nbformat": 4,
 "nbformat_minor": 5
}
